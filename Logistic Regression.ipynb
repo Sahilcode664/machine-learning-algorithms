{
 "cells": [
  {
   "cell_type": "code",
   "execution_count": 1,
   "id": "28e85f6c-fa0f-48c1-93b6-6f6fca1a188b",
   "metadata": {},
   "outputs": [
    {
     "data": {
      "text/plain": [
       "[<matplotlib.lines.Line2D at 0x19b993d0b30>]"
      ]
     },
     "execution_count": 1,
     "metadata": {},
     "output_type": "execute_result"
    },
    {
     "data": {
      "image/png": "[encoded data removed]",
      "text/plain": [
       "<Figure size 640x480 with 1 Axes>"
      ]
     },
     "metadata": {},
     "output_type": "display_data"
    }
   ],
   "source": [
    "import numpy as np\n",
    "import pandas as pd\n",
    "from sklearn.datasets import make_blobs\n",
    "from sklearn.linear_model import LogisticRegression\n",
    "import matplotlib.pyplot as plt\n",
    "from sklearn.model_selection import train_test_split\n",
    "X,y = make_blobs(n_samples = 100 , centers = 2 , random_state=42)\n",
    "class CustomLogisticRegression:\n",
    "    def __init__(self,lr=0.1 , iters=20):\n",
    "        self._lr=lr\n",
    "        self._iters=iters\n",
    "\n",
    "    def fit(self, X , y):\n",
    "        self._y = y.reshape(-1,1)\n",
    "        X_mod = np.hstack([np.ones([len(X),1]),X])\n",
    "        self._X = X_mod\n",
    "        self._theta = np.zeros([X_mod.shape[1],1])\n",
    "\n",
    "        err = []\n",
    "        for i in range(self._iters):\n",
    "            err.append(self.error())\n",
    "            self.gradient_ascend()\n",
    "\n",
    "        self.theta_ = self._theta\n",
    "        return err\n",
    "\n",
    "    def gradient_ascend(self):\n",
    "        yh=self.hypothesis(self._X)\n",
    "        ya=self._y\n",
    "        diff = -(ya-yh)\n",
    "        return np.dot(self._X.T,diff)*self._lr\n",
    "\n",
    "    def hypothesis(self,X):\n",
    "        prod = np.dot(X , self._theta)\n",
    "        return 1 / (1 + np.exp(-prod))\n",
    "        \n",
    "    def error(self):\n",
    "        yh= self.hypothesis(self._X)\n",
    "        ya= self._y \n",
    "        ll = ya * np.log(yh) + (1-ya)*np.log(1-yh)\n",
    "        return -np.mean(ll)\n",
    "\n",
    "    def predict(self,X):\n",
    "        X_mod = np.hstack([np.ones([len(X) , 1 ]),X])\n",
    "        yh= self.hypothesis(X_mod)\n",
    "        return (yh > .5).astype(int).flatten()\n",
    "\n",
    "    def score(self,X,y):\n",
    "        yp= self.predict(X)\n",
    "        return np.mean(yp==y)\n",
    "model = CustomLogisticRegression()\n",
    "X_train, X_test, y_train, y_test = train_test_split( X, y, test_size=0.33, random_state=42)\n",
    "err = model.fit(X_train , y_train)\n",
    "model\n",
    "plt.plot(err)"
   ]
  },
  {
   "cell_type": "code",
   "execution_count": null,
   "id": "fc6ba895-19d7-4f45-9e8d-9189bf5d9971",
   "metadata": {},
   "outputs": [],
   "source": []
  }
 ],
 "metadata": {
  "kernelspec": {
   "display_name": "Python 3 (ipykernel)",
   "language": "python",
   "name": "python3"
  },
  "language_info": {
   "codemirror_mode": {
    "name": "ipython",
    "version": 3
   },
   "file_extension": ".py",
   "mimetype": "text/x-python",
   "name": "python",
   "nbconvert_exporter": "python",
   "pygments_lexer": "ipython3",
   "version": "3.12.2"
  }
 },
 "nbformat": 4,
 "nbformat_minor": 5
}
