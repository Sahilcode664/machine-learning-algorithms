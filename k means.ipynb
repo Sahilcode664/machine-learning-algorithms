{
 "cells": [
  {
   "cell_type": "code",
   "execution_count": 17,
   "id": "6dd131b5-e8ba-4ba8-8dae-445cb0538eb2",
   "metadata": {},
   "outputs": [
    {
     "name": "stdout",
     "output_type": "stream",
     "text": [
      "[array([0.64426078, 0.50487248]), array([-6.91001979, -4.43677185])]\n",
      "[array([5.22657056, 5.02991175]), array([-5.29781951, -4.90966276])]\n",
      "[array([5.22657056, 5.02991175]), array([-5.29781951, -4.90966276])]\n"
     ]
    },
    {
     "data": {
      "image/png": "[encoded data removed]",
      "text/plain": [
       "<Figure size 640x480 with 1 Axes>"
      ]
     },
     "metadata": {},
     "output_type": "display_data"
    }
   ],
   "source": [
    "import numpy as np\n",
    "import random\n",
    "from sklearn.datasets import make_blobs\n",
    "\n",
    "class KMeans:\n",
    "    def __init__(self,n_clusters=2,max_iter=100):\n",
    "        self.n_clusters= n_clusters\n",
    "        self.max_iter = max_iter\n",
    "        self.centroids = None\n",
    "\n",
    "    def fit_predict(self,X):\n",
    "        random_index=random.sample(range(0,X.shape[0]),self.n_clusters)\n",
    "        self.centroids =X[random_index]\n",
    "        for i in range(self.max_iter):\n",
    "            cluster_group=self.assign_clusters(X)\n",
    "            old_centroids=self.centroids\n",
    "            self.centroids=self.move_centroids(X,cluster_group)\n",
    "            if (old_centroids == self.centroids).all():\n",
    "                break\n",
    "        return cluster_group    \n",
    "    def assign_clusters(self,X):\n",
    "        cluster_group=[]\n",
    "        distances=[]\n",
    "        for row in X:\n",
    "            for centroid in self.centroids:\n",
    "                distances.append(np.sqrt(np.dot(row-centroid,row-centroid))) \n",
    "            min_distance=min(distances)\n",
    "            index_pos=distances.index(min_distance)\n",
    "            cluster_group.append(index_pos)\n",
    "            distances.clear()\n",
    "        return np.array(cluster_group)\n",
    "\n",
    "    def move_centroids(self,X,cluster_group):\n",
    "        new_centroids =[]\n",
    "        cluster_type=np.unique(cluster_group)\n",
    "        for type in cluster_type:\n",
    "            new_centroids.append(X[cluster_group==type].mean(axis=0))\n",
    "        return np.array(new_centroids)\n",
    "\n",
    "\n",
    "centroids=[(-5,-5),(5,5)]\n",
    "\n",
    "cluster_std=[1,1]\n",
    "X,y = make_blobs(n_samples=100,cluster_std=cluster_std,centers=centroids,n_features=2,random_state=2)\n",
    "km=KMeans(n_clusters=2,max_iter=100)\n",
    "y_means = km.fit_predict(X)\n",
    "plt.scatter(X[y_means ==0,1],X[y_means == 0,1],color=\"red\")\n",
    "plt.scatter(X[y_means ==1,0],X[y_means == 1,1],color=\"green\")\n",
    "plt.show()"
   ]
  },
  {
   "cell_type": "code",
   "execution_count": 8,
   "id": "bc648554-cead-4fe7-9a7b-c592223427a5",
   "metadata": {},
   "outputs": [],
   "source": [
    "import matplotlib.pyplot as plt"
   ]
  },
  {
   "cell_type": "code",
   "execution_count": null,
   "id": "71b1daac-1a74-48f2-bbd3-1115506d458b",
   "metadata": {},
   "outputs": [],
   "source": []
  }
 ],
 "metadata": {
  "kernelspec": {
   "display_name": "Python 3 (ipykernel)",
   "language": "python",
   "name": "python3"
  },
  "language_info": {
   "codemirror_mode": {
    "name": "ipython",
    "version": 3
   },
   "file_extension": ".py",
   "mimetype": "text/x-python",
   "name": "python",
   "nbconvert_exporter": "python",
   "pygments_lexer": "ipython3",
   "version": "3.12.2"
  }
 },
 "nbformat": 4,
 "nbformat_minor": 5
}
