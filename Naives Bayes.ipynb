{
 "cells": [
  {
   "cell_type": "code",
   "execution_count": 16,
   "id": "ab8e9f60-066f-4f74-89a4-530b350cd923",
   "metadata": {},
   "outputs": [
    {
     "data": {
      "text/plain": [
       "0.9973890339425587"
      ]
     },
     "execution_count": 16,
     "metadata": {},
     "output_type": "execute_result"
    }
   ],
   "source": [
    "import numpy as np\n",
    "import pandas as pd\n",
    "from sklearn.preprocessing import LabelEncoder\n",
    "from sklearn.model_selection import train_test_split\n",
    "df = pd.read_csv(\"mushrooms.csv\")\n",
    "le= LabelEncoder()\n",
    "ds=df.apply(func=le.fit_transform)\n",
    "data =ds.values\n",
    "X= data[:,1:]\n",
    "y= data[:,0]\n",
    "X_train, X_test, y_train, y_test = train_test_split(   X, y, test_size=0.33, random_state=42)\n",
    "\n",
    "\n",
    "# Custom Naives Bayes\n",
    "class CustomNB:\n",
    "    def fit(self,X,y):\n",
    "        self.X_train = X\n",
    "        self.y_train = y\n",
    "\n",
    "    def prior_prob(self,label):\n",
    "        total = self.y_train.shape[0]\n",
    "        class_examples = np.sum(self.y_train ==label)\n",
    "        class_examples\n",
    "        return class_examples / float(total)\n",
    "    \n",
    "    def conditional_prob(self,feature_col, feature_val , label):\n",
    "        X_filtered = self.X_train[self.y_train == label]\n",
    "        numerator =np.sum(X_filtered[:,feature_col]==feature_val)\n",
    "        denominator = len(X_filtered)\n",
    "        return numerator/denominator\n",
    "        \n",
    "    def predict_point(self,X_test):\n",
    "        classes = np.unique(self.y_train)\n",
    "        n_feature = self.X_train.shape[1]\n",
    "        post_pro=[]\n",
    "        for label in classes:\n",
    "            likehood = 1.0\n",
    "            for feature in range(n_feature):\n",
    "                cond=self.conditional_prob(feature,X_test[feature],label)\n",
    "                likehood *= cond\n",
    "            prior = self.prior_prob(label)\n",
    "            post = prior *likehood\n",
    "            post_pro.append(post)\n",
    "        return np.argmax(post_pro)\n",
    "\n",
    "    def predict(self,X_test):\n",
    "        result =[]\n",
    "        for point in X_test:\n",
    "            result.append(self.predict_point(point))\n",
    "        return np.array(result)\n",
    "\n",
    "    def score(self, X_test ,y_test):\n",
    "        return (self.predict(X_test) == y_test).mean()\n",
    "    \n",
    "\n",
    "model = CustomNB()\n",
    "model.fit(X_train,y_train)\n",
    "model.predict(X_test[:10])\n",
    "y_test[:10]\n",
    "model.score(X_test , y_test)"
   ]
  },
  {
   "cell_type": "code",
   "execution_count": null,
   "id": "055ab365-62f3-40b0-b4f2-6bad30fd378c",
   "metadata": {},
   "outputs": [],
   "source": []
  }
 ],
 "metadata": {
  "kernelspec": {
   "display_name": "Python 3 (ipykernel)",
   "language": "python",
   "name": "python3"
  },
  "language_info": {
   "codemirror_mode": {
    "name": "ipython",
    "version": 3
   },
   "file_extension": ".py",
   "mimetype": "text/x-python",
   "name": "python",
   "nbconvert_exporter": "python",
   "pygments_lexer": "ipython3",
   "version": "3.12.2"
  }
 },
 "nbformat": 4,
 "nbformat_minor": 5
}
