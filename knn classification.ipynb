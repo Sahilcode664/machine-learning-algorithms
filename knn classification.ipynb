{
 "cells": [
  {
   "cell_type": "code",
   "execution_count": 5,
   "id": "c3c40184-4f7a-4cb5-bbf3-9a35f6e8379b",
   "metadata": {},
   "outputs": [],
   "source": [
    "class CustomKNN:\n",
    "    def __init__(self,n_neighbours=5):\n",
    "        self.n_neighbours=n_neighbours\n",
    "\n",
    "    def fit(self,X,y):\n",
    "        self._X = X.astyp(np.int64)\n",
    "        self._y = y\n",
    "\n",
    "    def predict_point(self,point):\n",
    "        list_dist=[]\n",
    "        for x_point,y_point in zip(self._X,self._y):\n",
    "            dist_point=((point - x_point)**2).sum()\n",
    "            list_dist.append([dist_point,y_point])\n",
    "        sorted_dist=sorted(list_dist)\n",
    "        top_k=sorted_dist[:n_neighbours]\n",
    "        items,count=np.unique(np.array(top_k)[:,1],return_counts=True)\n",
    "        ans=items(np.argmax(counts))\n",
    "        return ans\n",
    "    def predict(self,X):\n",
    "        results=[]\n",
    "        for point in X:\n",
    "            results.append(self.predict_point(point))\n",
    "        return np.array(results,dtype=int)\n",
    "    def score(self,X,y):\n",
    "        return sum(self.predict(X)==y)/len(y)\n",
    "        "
   ]
  },
  {
   "cell_type": "code",
   "execution_count": null,
   "id": "b3edc223-906e-4803-9fe1-7acb6341df4b",
   "metadata": {},
   "outputs": [],
   "source": []
  }
 ],
 "metadata": {
  "kernelspec": {
   "display_name": "Python 3 (ipykernel)",
   "language": "python",
   "name": "python3"
  },
  "language_info": {
   "codemirror_mode": {
    "name": "ipython",
    "version": 3
   },
   "file_extension": ".py",
   "mimetype": "text/x-python",
   "name": "python",
   "nbconvert_exporter": "python",
   "pygments_lexer": "ipython3",
   "version": "3.12.2"
  }
 },
 "nbformat": 4,
 "nbformat_minor": 5
}
